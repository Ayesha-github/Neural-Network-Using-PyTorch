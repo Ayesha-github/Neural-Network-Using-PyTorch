{
  "nbformat": 4,
  "nbformat_minor": 0,
  "metadata": {
    "colab": {
      "provenance": [],
      "authorship_tag": "ABX9TyNqxzDBBYdGJYs8x0i35Cdk",
      "include_colab_link": true
    },
    "kernelspec": {
      "name": "python3",
      "display_name": "Python 3"
    },
    "language_info": {
      "name": "python"
    }
  },
  "cells": [
    {
      "cell_type": "markdown",
      "metadata": {
        "id": "view-in-github",
        "colab_type": "text"
      },
      "source": [
        "<a href=\"https://colab.research.google.com/github/Ayesha-github/Neural-Network-Using-PyTorch/blob/main/AlexNET.ipynb\" target=\"_parent\"><img src=\"https://colab.research.google.com/assets/colab-badge.svg\" alt=\"Open In Colab\"/></a>"
      ]
    },
    {
      "cell_type": "markdown",
      "source": [
        "#PyTorch Implementation of AlexNet\n",
        "\n",
        "Description: This repository contains a PyTorch implementation of AlexNet, the deep convolutional neural network architecture that won the ImageNet Large Scale Visual Recognition Challenge (ILSVRC) in 2012.\n",
        "\n",
        "The AlexNet architecture consists of eight layers, including five convolutional layers and three fully connected layers, and was one of the first successful implementations of deep learning for image classification tasks. "
      ],
      "metadata": {
        "id": "26Ynfi4Gq4yi"
      }
    },
    {
      "cell_type": "code",
      "execution_count": null,
      "metadata": {
        "id": "fu6O_tlTpxIf"
      },
      "outputs": [],
      "source": [
        "from torch import nn\n",
        "import torch\n",
        "import numpy as np\n",
        "\n",
        "import torch.nn.functional as F"
      ]
    },
    {
      "cell_type": "code",
      "source": [
        "\n",
        "class ConvNet(nn.Module):\n",
        "    def __init__(self):\n",
        "        super(ConvNet, self).__init__()\n",
        "        self.conv1=nn.Conv2d(3,96,11,stride=4)\n",
        "        self.conv2=nn.Conv2d(96,256,5,stride=1,padding=2)\n",
        "        self.conv3=nn.Conv2d(256,384,3,stride=1,padding=1)\n",
        "        self.conv4=nn.Conv2d(384,384,3,stride=1,padding=1)\n",
        "        self.conv5=nn.Conv2d(384,384,3,stride=1,padding=1)\n",
        "        self.maxpool=nn.MaxPool2d(kernel_size=3,stride=2)\n",
        "        self.dropout=nn.Dropout(0.5)\n",
        "        self.fc1=nn.Linear(13824,4096)\n",
        "        self.fc2=nn.Linear(4096,4096)\n",
        "        self.fc3=nn.Linear(4096,1000)\n",
        "\n",
        "        self.flat=nn.Flatten()\n",
        "\n",
        "    def forward(self, x):\n",
        "        x=self.conv1(x)\n",
        "        x=self.maxpool(x)\n",
        "        x=self.conv2(x)\n",
        "        x=self.maxpool(x)\n",
        "        x=self.conv3(x)\n",
        "        x=self.conv4(x)\n",
        "        x=self.conv5(x)\n",
        "        x=self.maxpool(x)\n",
        "        x=self.dropout(x)\n",
        "        x=self.flat(x)\n",
        "        x=self.fc1(x)\n",
        "        x=self.fc2(x)\n",
        "        x=self.fc3(x)\n",
        "        return x\n"
      ],
      "metadata": {
        "id": "kofb0TDDp3T5"
      },
      "execution_count": null,
      "outputs": []
    },
    {
      "cell_type": "code",
      "source": [
        "img=np.ones(shape=(5,3,227,227),dtype=np.float32)\n",
        "print(img.shape)\n",
        "# img=np.expand_dims(img,0)\n",
        "print(img.shape)"
      ],
      "metadata": {
        "id": "IOCZ3AQHp4JW"
      },
      "execution_count": null,
      "outputs": []
    },
    {
      "cell_type": "code",
      "source": [
        "model=ConvNet()\n",
        "# print('model#############',img.dtype)\n",
        "# print(model)\n",
        "img=torch.tensor(img)\n",
        "# print(img)\n",
        "res=model(img)"
      ],
      "metadata": {
        "id": "hXbQVmtdp7A7"
      },
      "execution_count": null,
      "outputs": []
    },
    {
      "cell_type": "code",
      "source": [
        "print(res.shape)"
      ],
      "metadata": {
        "id": "T9HHQJsyp8WI"
      },
      "execution_count": null,
      "outputs": []
    }
  ]
}